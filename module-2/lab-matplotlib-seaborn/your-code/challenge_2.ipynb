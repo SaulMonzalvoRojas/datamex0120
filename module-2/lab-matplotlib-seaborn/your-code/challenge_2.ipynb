{
  "nbformat": 4,
  "nbformat_minor": 0,
  "metadata": {
    "kernelspec": {
      "display_name": "Python 3",
      "language": "python",
      "name": "python3"
    },
    "language_info": {
      "codemirror_mode": {
        "name": "ipython",
        "version": 3
      },
      "file_extension": ".py",
      "mimetype": "text/x-python",
      "name": "python",
      "nbconvert_exporter": "python",
      "pygments_lexer": "ipython3",
      "version": "3.7.0"
    },
    "colab": {
      "name": "challenge-2.ipynb",
      "provenance": []
    }
  },
  "cells": [
    {
      "cell_type": "markdown",
      "metadata": {
        "id": "1y5YI4bOHgOl",
        "colab_type": "text"
      },
      "source": [
        "# Challenge 2"
      ]
    },
    {
      "cell_type": "markdown",
      "metadata": {
        "id": "_QE6QUncHgOo",
        "colab_type": "text"
      },
      "source": [
        "In this lab you will partner with another student to conduct **[pair programming](https://en.wikipedia.org/wiki/Pair_programming)**. In the next 60 minutes there will be 2 coding sessions of 30 minutes each. In each sessoin, one student will be the **driver** to write the code to solve the problem while the other student will be the **observer** to watch and review. There will be several iterations of your code because the observer will help the driver review the codes and make improvements until the 15 minute session ends. After the coding session ends, the driver and observer will switch roles."
      ]
    },
    {
      "cell_type": "markdown",
      "metadata": {
        "id": "RCBiW4XYHgOq",
        "colab_type": "text"
      },
      "source": [
        "#### Import all the libraries that are necessary"
      ]
    },
    {
      "cell_type": "code",
      "metadata": {
        "id": "H1tKYkXOHgOr",
        "colab_type": "code",
        "colab": {}
      },
      "source": [
        "# import libraries here\n",
        "import pandas as pd\n",
        "'''\n",
        "import numpy as np\n",
        "import matplotlib.pyplot as plt\n",
        "import seaborn as sns\n",
        "%matplotlib inline\n",
        "'''\n",
        "import numpy as np\n",
        "import matplotlib.pyplot as plt\n",
        "import seaborn as sns\n",
        "%matplotlib inline"
      ],
      "execution_count": 0,
      "outputs": []
    },
    {
      "cell_type": "markdown",
      "metadata": {
        "id": "rvtSCzowHgOx",
        "colab_type": "text"
      },
      "source": [
        "## Preparation\n",
        "\n",
        "#### Import the `Fitbit2.csv` file and name your dataset `fitbit`"
      ]
    },
    {
      "cell_type": "code",
      "metadata": {
        "id": "l6A-jIpRHgOy",
        "colab_type": "code",
        "colab": {
          "base_uri": "https://localhost:8080/",
          "height": 428
        },
        "outputId": "30e5aa69-179f-494a-a119-200147124882"
      },
      "source": [
        "\n",
        "from google.colab import drive \n",
        "drive.mount('/content/gdrive')\n",
        "fitbit=pd.read_csv('gdrive/My Drive/Fitbit2.csv')\n",
        "fitbit.head()"
      ],
      "execution_count": 2,
      "outputs": [
        {
          "output_type": "stream",
          "text": [
            "Go to this URL in a browser: https://accounts.google.com/o/oauth2/auth?client_id=947318989803-6bn6qk8qdgf4n4g3pfee6491hc0brc4i.apps.googleusercontent.com&redirect_uri=urn%3aietf%3awg%3aoauth%3a2.0%3aoob&response_type=code&scope=email%20https%3a%2f%2fwww.googleapis.com%2fauth%2fdocs.test%20https%3a%2f%2fwww.googleapis.com%2fauth%2fdrive%20https%3a%2f%2fwww.googleapis.com%2fauth%2fdrive.photos.readonly%20https%3a%2f%2fwww.googleapis.com%2fauth%2fpeopleapi.readonly\n",
            "\n",
            "Enter your authorization code:\n",
            "··········\n",
            "Mounted at /content/gdrive\n"
          ],
          "name": "stdout"
        },
        {
          "output_type": "execute_result",
          "data": {
            "text/html": [
              "<div>\n",
              "<style scoped>\n",
              "    .dataframe tbody tr th:only-of-type {\n",
              "        vertical-align: middle;\n",
              "    }\n",
              "\n",
              "    .dataframe tbody tr th {\n",
              "        vertical-align: top;\n",
              "    }\n",
              "\n",
              "    .dataframe thead th {\n",
              "        text-align: right;\n",
              "    }\n",
              "</style>\n",
              "<table border=\"1\" class=\"dataframe\">\n",
              "  <thead>\n",
              "    <tr style=\"text-align: right;\">\n",
              "      <th></th>\n",
              "      <th>Date</th>\n",
              "      <th>Calorie burned</th>\n",
              "      <th>Steps</th>\n",
              "      <th>Distance</th>\n",
              "      <th>Floors</th>\n",
              "      <th>Minutes Sedentary</th>\n",
              "      <th>Minutes Lightly Active</th>\n",
              "      <th>Minutes Fairly Active</th>\n",
              "      <th>Minutes Very Active</th>\n",
              "      <th>Activity Calories</th>\n",
              "      <th>MinutesOfSleep</th>\n",
              "      <th>MinutesOfBeingAwake</th>\n",
              "      <th>NumberOfAwakings</th>\n",
              "      <th>LengthOfRestInMinutes</th>\n",
              "      <th>Distance_miles</th>\n",
              "      <th>Days</th>\n",
              "      <th>Days_encoded</th>\n",
              "      <th>Work_or_Weekend</th>\n",
              "      <th>Hours Sleep</th>\n",
              "      <th>Sleep efficiency</th>\n",
              "      <th>Yesterday_sleep</th>\n",
              "      <th>Yesterday_sleep_efficiency</th>\n",
              "      <th>Months</th>\n",
              "      <th>Months_encoded</th>\n",
              "    </tr>\n",
              "  </thead>\n",
              "  <tbody>\n",
              "    <tr>\n",
              "      <th>0</th>\n",
              "      <td>2015-05-08</td>\n",
              "      <td>1934</td>\n",
              "      <td>905</td>\n",
              "      <td>0.65</td>\n",
              "      <td>0</td>\n",
              "      <td>1.355</td>\n",
              "      <td>46</td>\n",
              "      <td>0</td>\n",
              "      <td>0</td>\n",
              "      <td>1680</td>\n",
              "      <td>384</td>\n",
              "      <td>26</td>\n",
              "      <td>23</td>\n",
              "      <td>417</td>\n",
              "      <td>0.403891</td>\n",
              "      <td>Friday</td>\n",
              "      <td>4.0</td>\n",
              "      <td>1</td>\n",
              "      <td>6.400000</td>\n",
              "      <td>92.086331</td>\n",
              "      <td>0.000000</td>\n",
              "      <td>0.000000</td>\n",
              "      <td>May</td>\n",
              "      <td>5</td>\n",
              "    </tr>\n",
              "    <tr>\n",
              "      <th>1</th>\n",
              "      <td>2015-05-09</td>\n",
              "      <td>3631</td>\n",
              "      <td>18925</td>\n",
              "      <td>14.11</td>\n",
              "      <td>4</td>\n",
              "      <td>611.000</td>\n",
              "      <td>316</td>\n",
              "      <td>61</td>\n",
              "      <td>60</td>\n",
              "      <td>2248</td>\n",
              "      <td>454</td>\n",
              "      <td>35</td>\n",
              "      <td>21</td>\n",
              "      <td>491</td>\n",
              "      <td>8.767545</td>\n",
              "      <td>Saturday</td>\n",
              "      <td>5.0</td>\n",
              "      <td>0</td>\n",
              "      <td>7.566667</td>\n",
              "      <td>92.464358</td>\n",
              "      <td>6.400000</td>\n",
              "      <td>92.086331</td>\n",
              "      <td>May</td>\n",
              "      <td>5</td>\n",
              "    </tr>\n",
              "    <tr>\n",
              "      <th>2</th>\n",
              "      <td>2015-05-10</td>\n",
              "      <td>3204</td>\n",
              "      <td>14228</td>\n",
              "      <td>10.57</td>\n",
              "      <td>1</td>\n",
              "      <td>602.000</td>\n",
              "      <td>226</td>\n",
              "      <td>14</td>\n",
              "      <td>77</td>\n",
              "      <td>1719</td>\n",
              "      <td>387</td>\n",
              "      <td>46</td>\n",
              "      <td>25</td>\n",
              "      <td>436</td>\n",
              "      <td>6.567891</td>\n",
              "      <td>Sunday</td>\n",
              "      <td>6.0</td>\n",
              "      <td>0</td>\n",
              "      <td>6.450000</td>\n",
              "      <td>88.761468</td>\n",
              "      <td>7.566667</td>\n",
              "      <td>92.464358</td>\n",
              "      <td>May</td>\n",
              "      <td>5</td>\n",
              "    </tr>\n",
              "    <tr>\n",
              "      <th>3</th>\n",
              "      <td>2015-05-11</td>\n",
              "      <td>2673</td>\n",
              "      <td>6756</td>\n",
              "      <td>5.02</td>\n",
              "      <td>8</td>\n",
              "      <td>749.000</td>\n",
              "      <td>190</td>\n",
              "      <td>23</td>\n",
              "      <td>4</td>\n",
              "      <td>9620</td>\n",
              "      <td>311</td>\n",
              "      <td>31</td>\n",
              "      <td>21</td>\n",
              "      <td>350</td>\n",
              "      <td>3.119282</td>\n",
              "      <td>Monday</td>\n",
              "      <td>0.0</td>\n",
              "      <td>1</td>\n",
              "      <td>5.183333</td>\n",
              "      <td>88.857143</td>\n",
              "      <td>6.450000</td>\n",
              "      <td>88.761468</td>\n",
              "      <td>May</td>\n",
              "      <td>5</td>\n",
              "    </tr>\n",
              "    <tr>\n",
              "      <th>4</th>\n",
              "      <td>2015-05-12</td>\n",
              "      <td>2495</td>\n",
              "      <td>502</td>\n",
              "      <td>3.73</td>\n",
              "      <td>1</td>\n",
              "      <td>876.000</td>\n",
              "      <td>171</td>\n",
              "      <td>0</td>\n",
              "      <td>0</td>\n",
              "      <td>7360</td>\n",
              "      <td>407</td>\n",
              "      <td>65</td>\n",
              "      <td>44</td>\n",
              "      <td>491</td>\n",
              "      <td>2.317714</td>\n",
              "      <td>Tuesday</td>\n",
              "      <td>1.0</td>\n",
              "      <td>1</td>\n",
              "      <td>6.783333</td>\n",
              "      <td>82.892057</td>\n",
              "      <td>5.183333</td>\n",
              "      <td>88.857143</td>\n",
              "      <td>May</td>\n",
              "      <td>5</td>\n",
              "    </tr>\n",
              "  </tbody>\n",
              "</table>\n",
              "</div>"
            ],
            "text/plain": [
              "         Date  Calorie burned  ...  Months  Months_encoded\n",
              "0  2015-05-08            1934  ...     May               5\n",
              "1  2015-05-09            3631  ...     May               5\n",
              "2  2015-05-10            3204  ...     May               5\n",
              "3  2015-05-11            2673  ...     May               5\n",
              "4  2015-05-12            2495  ...     May               5\n",
              "\n",
              "[5 rows x 24 columns]"
            ]
          },
          "metadata": {
            "tags": []
          },
          "execution_count": 2
        }
      ]
    },
    {
      "cell_type": "markdown",
      "metadata": {
        "id": "SL4O4SE3HgO2",
        "colab_type": "text"
      },
      "source": [
        "## Coding Session I - 30 minutes\n",
        "\n",
        "From the Fitbit data, we want to visually understand: \n",
        "\n",
        "1. **How the average number of steps change by month. Use the appropriate visualization to show the median steps by month?**\n",
        "1. **Is Fitbitter more active on weekend or workdays?**\n",
        "\n",
        "##### All plots must be in the same jupyter notebook cell.\n",
        "\n",
        "Hints:\n",
        "\n",
        "- Use `Months_encoded` and `Week_or Weekend` columns\n",
        "- Use `matplolib.pyplot` object oriented API\n",
        "- Set your size figure to `12,4`\n",
        "- Explore `plt.sca`\n",
        "- Explore `plt.xticks`\n",
        "- Save your figures"
      ]
    },
    {
      "cell_type": "code",
      "metadata": {
        "id": "0Y1P62qpHgO4",
        "colab_type": "code",
        "colab": {
          "base_uri": "https://localhost:8080/",
          "height": 570
        },
        "outputId": "b2945a5e-9ad5-4466-d8c8-4b7bad42feb6"
      },
      "source": [
        "# Driver 1 enter codes here\n",
        "sns.set(style='darkgrid')\n",
        "month = fitbit.groupby('Months').mean().Steps.index\n",
        "avg_steps = fitbit.groupby('Months').mean().Steps.values\n",
        "\n",
        "plt.figure(figsize=(12,4))\n",
        "plt.subplot(1,2,1)\n",
        "plt.xticks(rotation=70)\n",
        "plt.bar(month, avg_steps);\n",
        "\n",
        "plt.subplot(1,2,2)\n",
        "median_steps = fitbit.groupby('Months').median().Steps.values\n",
        "plt.xticks(rotation=70)\n",
        "plt.bar(month, median_steps);\n",
        "\n",
        "plt.figure()\n",
        "y = fitbit.groupby('Work_or_Weekend').mean()['Activity Calories'].values\n",
        "plt.bar(['Weekend', 'Workday'], y);\n"
      ],
      "execution_count": 5,
      "outputs": [
        {
          "output_type": "display_data",
          "data": {
            "image/png": "[encoded data removed]",
            "text/plain": [
              "<Figure size 864x288 with 2 Axes>"
            ]
          },
          "metadata": {
            "tags": []
          }
        },
        {
          "output_type": "display_data",
          "data": {
            "image/png": "[encoded data removed]",
            "text/plain": [
              "<Figure size 432x288 with 1 Axes>"
            ]
          },
          "metadata": {
            "tags": []
          }
        }
      ]
    },
    {
      "cell_type": "markdown",
      "metadata": {
        "id": "53JYaeDhHgO9",
        "colab_type": "text"
      },
      "source": [
        "## Coding Session II - 30 minutes\n",
        "\n",
        "**Write a loop to plot 3 scatter plots of the following features:**\n",
        "\n",
        "1. **`Minutes Lightly Active`  vs `Steps`**\n",
        "1. **`Minutes Very Active` vs `Steps`**\n",
        "1. **`Minutes Sedentary` vs `Steps`**"
      ]
    },
    {
      "cell_type": "code",
      "metadata": {
        "id": "NNi68O1NHgPA",
        "colab_type": "code",
        "colab": {
          "base_uri": "https://localhost:8080/",
          "height": 268
        },
        "outputId": "7acb849b-ace3-478e-b7c2-b64402c0b0bf"
      },
      "source": [
        "# Driver 2 enter codes here\n",
        "\n",
        "cols = ['Minutes Lightly Active', 'Minutes Very Active', 'Minutes Sedentary']\n",
        "for i in range(3):\n",
        "    plt.scatter(fitbit[cols[i]], fitbit.Steps)"
      ],
      "execution_count": 6,
      "outputs": [
        {
          "output_type": "display_data",
          "data": {
            "image/png": "[encoded data removed]",
            "text/plain": [
              "<Figure size 432x288 with 1 Axes>"
            ]
          },
          "metadata": {
            "tags": []
          }
        }
      ]
    }
  ]
}